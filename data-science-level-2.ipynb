{
 "cells": [
  {
   "cell_type": "markdown",
   "metadata": {},
   "source": [
    "## [Data Science] Image Processing : Exploratory & Modeling\n",
    "In this poject we will work on a set of image of letters in plenty of differents fronts.\n",
    "The data consists of characters rendered in a variety of fonts on a 28x28 image. The labels are limited to 'A' through 'J' (10 classes). The training set has about 500k and the testset 19000 labeled examples. Given these sizes, it should be possible to train models quickly on any machine.\n"
   ]
  },
  {
   "cell_type": "markdown",
   "metadata": {},
   "source": [
    "You need to go step by step through this notebook, and fill the code in the //TODO. \n",
    "Please make sure to explain clearly all your choices. "
   ]
  },
  {
   "cell_type": "code",
   "execution_count": 1,
   "metadata": {},
   "outputs": [
    {
     "name": "stdout",
     "output_type": "stream",
     "text": [
      "Using Python  = 3.7.3\n",
      "Tensorflow    = 2.0.0\n"
     ]
    }
   ],
   "source": [
    "# These are all the modules that could be use for this project. Make sure you can import them\n",
    "# before proceeding further.\n",
    "from __future__ import print_function\n",
    "import imageio\n",
    "import matplotlib.pyplot as plt\n",
    "import numpy as np\n",
    "import tensorflow as tf\n",
    "import os\n",
    "import sys\n",
    "import tarfile\n",
    "from IPython.display import display, Image\n",
    "from sklearn.linear_model import LogisticRegression\n",
    "from six.moves.urllib.request import urlretrieve\n",
    "from six.moves import cPickle as pickle\n",
    "import seaborn as sns\n",
    "import pandas as pd\n",
    "from six.moves import cPickle\n",
    "import random\n",
    "from sklearn.model_selection import train_test_split\n",
    "import warnings\n",
    "warnings.filterwarnings('ignore')\n",
    "\n",
    "%matplotlib inline\n",
    "np.random.seed(133)\n",
    "print(f'Using Python  = {sys.version.split()[0]}')\n",
    "print(f'Tensorflow    = {tf.__version__}')\n"
   ]
  },
  {
   "cell_type": "markdown",
   "metadata": {},
   "source": [
    "## Step 1 Download data set"
   ]
  },
  {
   "cell_type": "markdown",
   "metadata": {},
   "source": [
    "In order to save you time we provide this function"
   ]
  },
  {
   "cell_type": "code",
   "execution_count": 144,
   "metadata": {},
   "outputs": [
    {
     "name": "stdout",
     "output_type": "stream",
     "text": [
      "Found and verified .\\notMNIST_large.tar.gz\n",
      "Found and verified .\\notMNIST_small.tar.gz\n"
     ]
    }
   ],
   "source": [
    "\n",
    "url = 'https://commondatastorage.googleapis.com/books1000/'\n",
    "last_percent_reported = None\n",
    "data_root = '.' # Change me to store data elsewhere\n",
    "\n",
    "def download_progress(count, blockSize, totalSize):\n",
    "    \"\"\"\n",
    "    Simple hook to report the progress of a download. \n",
    "    \"\"\"\n",
    "    global last_percent_reported\n",
    "    percent = int(count * blockSize * 100 / totalSize)\n",
    "\n",
    "    if last_percent_reported != percent:\n",
    "        if percent % 5 == 0:\n",
    "            sys.stdout.write(\"%s%%\" % percent)\n",
    "            sys.stdout.flush()\n",
    "        else:\n",
    "            sys.stdout.write(\".\")\n",
    "            sys.stdout.flush()\n",
    "      \n",
    "        last_percent_reported = percent\n",
    "        \n",
    "def gz_download(filename, expected_bytes, force=False):\n",
    "    \"\"\"\n",
    "    Download a file if not present, and make sure it's the right size.\n",
    "    \"\"\"\n",
    "    dest_filename = os.path.join(data_root, filename)\n",
    "    if force or not os.path.exists(dest_filename):\n",
    "        print('Attempting to download:', filename) \n",
    "        filename, _ = urlretrieve(url + filename, dest_filename, reporthook=download_progress)\n",
    "        print('\\nDownload Complete!')\n",
    "    statinfo = os.stat(dest_filename)\n",
    "  \n",
    "    if statinfo.st_size == expected_bytes:\n",
    "        print('Found and verified', dest_filename)\n",
    "    else:\n",
    "        raise Exception('Failed to verify ' + dest_filename + '. Can you get to it with a browser?')\n",
    "    return dest_filename\n",
    "\n",
    "train_filename = gz_download('notMNIST_large.tar.gz', 247336696)\n",
    "test_filename = gz_download('notMNIST_small.tar.gz', 8458043)"
   ]
  },
  {
   "cell_type": "markdown",
   "metadata": {},
   "source": [
    "Extract the dataset from the compressed .tar.gz file. This should give you a set of directories, labeled A through J."
   ]
  },
  {
   "cell_type": "code",
   "execution_count": 155,
   "metadata": {},
   "outputs": [
    {
     "name": "stdout",
     "output_type": "stream",
     "text": [
      ".\\notMNIST_large\\notMNIST_large\n",
      ".\\notMNIST_large\\notMNIST_large\\A\n",
      ".\\notMNIST_large\\notMNIST_large\\B\n",
      ".\\notMNIST_large\\notMNIST_large\\C\n",
      ".\\notMNIST_large\\notMNIST_large\\D\n",
      ".\\notMNIST_large\\notMNIST_large\\E\n",
      ".\\notMNIST_large\\notMNIST_large\\F\n",
      ".\\notMNIST_large\\notMNIST_large\\G\n",
      ".\\notMNIST_large\\notMNIST_large\\H\n",
      ".\\notMNIST_large\\notMNIST_large\\I\n",
      ".\\notMNIST_large\\notMNIST_large\\J\n",
      ".\\notMNIST_small\\notMNIST_small\n",
      ".\\notMNIST_small\\notMNIST_small\\A\n",
      ".\\notMNIST_small\\notMNIST_small\\B\n",
      ".\\notMNIST_small\\notMNIST_small\\C\n",
      ".\\notMNIST_small\\notMNIST_small\\D\n",
      ".\\notMNIST_small\\notMNIST_small\\E\n",
      ".\\notMNIST_small\\notMNIST_small\\F\n",
      ".\\notMNIST_small\\notMNIST_small\\G\n",
      ".\\notMNIST_small\\notMNIST_small\\H\n",
      ".\\notMNIST_small\\notMNIST_small\\I\n",
      ".\\notMNIST_small\\notMNIST_small\\J\n"
     ]
    }
   ],
   "source": [
    "#Cette fonction extrait les fichiers d'un repertoire compressé, les stocke dans un dossier \n",
    "#et retourne l'adresse du dossier contenant les fichiers extraits\n",
    "def tar_extract(filename, force=False):\n",
    "    root = os.path.splitext(os.path.splitext(filename)[0])[0]  # remove .tar.gz\n",
    "    #my_tar = tarfile.open(filename)\n",
    "    #my_tar.extractall(root) # specify which folder to extract to\n",
    "    #my_tar.close()\n",
    "    data_folders = []\n",
    "    for dirs in os.walk(root):\n",
    "        if dirs[2]:\n",
    "            print(dirs[0])\n",
    "            data_folders.append(dirs[0])\n",
    "    return data_folders\n",
    "  \n",
    "train_folders = tar_extract(train_filename)\n",
    "test_folders = tar_extract(test_filename)\n",
    "#train_folders = train_folders + \"\\\\notMNIST_large\"\n",
    "#test_folders = test_folders + \"\\\\notMNIST_small\""
   ]
  },
  {
   "cell_type": "markdown",
   "metadata": {},
   "source": [
    "## Problem 1\n",
    "Let's take a peek at some of the data to make sure it looks sensible. Each exemplar should be an image of a character A through J rendered in a different font. Display a sample of the images that we just downloaded. "
   ]
  },
  {
   "cell_type": "code",
   "execution_count": 156,
   "metadata": {},
   "outputs": [
    {
     "data": {
      "image/png": "[encoded data removed]",
      "text/plain": [
       "<IPython.core.display.Image object>"
      ]
     },
     "metadata": {},
     "output_type": "display_data"
    },
    {
     "data": {
      "image/png": "[encoded data removed]",
      "text/plain": [
       "<IPython.core.display.Image object>"
      ]
     },
     "metadata": {},
     "output_type": "display_data"
    },
    {
     "data": {
      "image/png": "[encoded data removed]",
      "text/plain": [
       "<IPython.core.display.Image object>"
      ]
     },
     "metadata": {},
     "output_type": "display_data"
    },
    {
     "data": {
      "image/png": "[encoded data removed]",
      "text/plain": [
       "<IPython.core.display.Image object>"
      ]
     },
     "metadata": {},
     "output_type": "display_data"
    },
    {
     "data": {
      "image/png": "[encoded data removed]",
      "text/plain": [
       "<IPython.core.display.Image object>"
      ]
     },
     "metadata": {},
     "output_type": "display_data"
    },
    {
     "data": {
      "image/png": "[encoded data removed]",
      "text/plain": [
       "<IPython.core.display.Image object>"
      ]
     },
     "metadata": {},
     "output_type": "display_data"
    },
    {
     "data": {
      "image/png": "[encoded data removed]",
      "text/plain": [
       "<IPython.core.display.Image object>"
      ]
     },
     "metadata": {},
     "output_type": "display_data"
    },
    {
     "data": {
      "image/png": "[encoded data removed]",
      "text/plain": [
       "<IPython.core.display.Image object>"
      ]
     },
     "metadata": {},
     "output_type": "display_data"
    },
    {
     "data": {
      "image/png": "[encoded data removed]",
      "text/plain": [
       "<IPython.core.display.Image object>"
      ]
     },
     "metadata": {},
     "output_type": "display_data"
    },
    {
     "data": {
      "image/png": "[encoded data removed]",
      "text/plain": [
       "<IPython.core.display.Image object>"
      ]
     },
     "metadata": {},
     "output_type": "display_data"
    }
   ],
   "source": [
    "#Dans chaque Dossier correspondant à une lettre (dans le train_dataset), on prend une lettre de façon aléatoire puis on affiche \n",
    "#cette lettre\n",
    "\n",
    "#A noter, les résultats affichés sont cohérents dans l'ensemble mais on peut constater que le dataset contient certaines données\n",
    "#erronéées, enfait certaines images affichées ne correspondent pas à la lettre à laquelles elles sont attribués\n",
    "for dirs in os.walk(test_folders[0]):\n",
    "    if dirs[2]:\n",
    "        if not any(\"pickle\" in s for s in dirs[2]):\n",
    "            img = dirs[0] + \"\\\\\" + random.choice(dirs[2])\n",
    "            pil_img = Image(filename=img)\n",
    "            display(pil_img)\n"
   ]
  },
  {
   "cell_type": "markdown",
   "metadata": {},
   "source": [
    "\n",
    "Now let's load the data in a more manageable format. Since, depending on your computer setup you might not be able to fit it all in memory, we'll load each class into a separate dataset, store them on disk and curate them independently. We could merge into a single dataset of manageable size if needed.\n",
    "\n",
    "We'll convert the entire dataset into a 3D array (image index, x, y) of floating point values, normalized to have approximately zero mean and standard deviation ~0.5 to make training easier down the road.\n"
   ]
  },
  {
   "cell_type": "code",
   "execution_count": 160,
   "metadata": {},
   "outputs": [
    {
     "name": "stdout",
     "output_type": "stream",
     "text": [
      ".\\notMNIST_large\\notMNIST_large\\B.pickle already present - Skipping pickling.\n",
      ".\\notMNIST_large\\notMNIST_large\\C.pickle already present - Skipping pickling.\n",
      ".\\notMNIST_large\\notMNIST_large\\D.pickle already present - Skipping pickling.\n",
      ".\\notMNIST_large\\notMNIST_large\\E.pickle already present - Skipping pickling.\n",
      ".\\notMNIST_large\\notMNIST_large\\F.pickle already present - Skipping pickling.\n",
      ".\\notMNIST_large\\notMNIST_large\\G.pickle already present - Skipping pickling.\n",
      ".\\notMNIST_large\\notMNIST_large\\H.pickle already present - Skipping pickling.\n",
      ".\\notMNIST_large\\notMNIST_large\\I.pickle already present - Skipping pickling.\n",
      ".\\notMNIST_large\\notMNIST_large\\J.pickle already present - Skipping pickling.\n",
      ".\\notMNIST_small\\notMNIST_small\\A.pickle already present - Skipping pickling.\n",
      ".\\notMNIST_small\\notMNIST_small\\B.pickle already present - Skipping pickling.\n",
      ".\\notMNIST_small\\notMNIST_small\\C.pickle already present - Skipping pickling.\n",
      ".\\notMNIST_small\\notMNIST_small\\D.pickle already present - Skipping pickling.\n",
      ".\\notMNIST_small\\notMNIST_small\\E.pickle already present - Skipping pickling.\n",
      ".\\notMNIST_small\\notMNIST_small\\F.pickle already present - Skipping pickling.\n",
      ".\\notMNIST_small\\notMNIST_small\\G.pickle already present - Skipping pickling.\n",
      ".\\notMNIST_small\\notMNIST_small\\H.pickle already present - Skipping pickling.\n",
      ".\\notMNIST_small\\notMNIST_small\\I.pickle already present - Skipping pickling.\n",
      ".\\notMNIST_small\\notMNIST_small\\J.pickle already present - Skipping pickling.\n"
     ]
    }
   ],
   "source": [
    "image_size = 28  # Pixel width and height.\n",
    "pixel_depth = 255.0  # Number of levels per pixel.\n",
    "\n",
    "def load_letters(folder, min_num_images):\n",
    "  \"\"\"Load the data for a single letter label.\"\"\"\n",
    "  image_files = os.listdir(folder)\n",
    "  dataset = np.ndarray(shape=(len(image_files), image_size, image_size),\n",
    "                         dtype=np.float32)\n",
    "  print(folder)\n",
    "  num_images = 0\n",
    "  for image in image_files:\n",
    "    image_file = os.path.join(folder, image)\n",
    "    try:\n",
    "      image_data = (imageio.imread(image_file).astype(float) - \n",
    "                    pixel_depth / 2) / pixel_depth\n",
    "      if image_data.shape != (image_size, image_size):\n",
    "        raise Exception('Unexpected image shape: %s' % str(image_data.shape))\n",
    "      dataset[num_images, :, :] = image_data\n",
    "      num_images = num_images + 1\n",
    "    except IOError as e:\n",
    "      print('Could not read:', image_file, ':', e, '- it\\'s ok, skipping.')\n",
    "    except ValueError as e:\n",
    "      print('Could not read:', image_file, ':', e, '- it\\'s ok, skipping.')\n",
    "    \n",
    "    \n",
    "  dataset = dataset[0:num_images, :, :]\n",
    "  if num_images < min_num_images:\n",
    "    raise Exception('Many fewer images than expected: %d < %d' %\n",
    "                    (num_images, min_num_images))\n",
    "    \n",
    "  print('Full dataset tensor:', dataset.shape)\n",
    "  print('Mean:', np.mean(dataset))\n",
    "  print('Standard deviation:', np.std(dataset))\n",
    "  return dataset\n",
    "        \n",
    "def pickle(data_folders, min_num_images_per_class, force=False):\n",
    "    dataset_names = []\n",
    "    for folder in data_folders:\n",
    "        set_filename = folder + '.pickle'\n",
    "        dataset_names.append(set_filename)\n",
    "        if os.path.exists(set_filename) and not force:\n",
    "            # You may override by setting force=True.\n",
    "            print('%s already present - Skipping pickling.' % set_filename)\n",
    "        else:\n",
    "            print('Pickling %s.' % set_filename)\n",
    "\n",
    "            dataset = load_letters(folder, min_num_images_per_class)\n",
    "            try:\n",
    "                with open(set_filename, 'wb') as f:\n",
    "                    cPickle.dump(dataset, f, cPickle.HIGHEST_PROTOCOL)\n",
    "            except Exception as e:\n",
    "                print('Unable to save data to', set_filename, ':', e)\n",
    "    return dataset_names\n",
    "\n",
    "train_folders.pop(0)\n",
    "test_folders.pop(0)\n",
    "\n",
    "train_datasets = pickle(train_folders, 45000)\n",
    "test_datasets = pickle(test_folders, 1800)"
   ]
  },
  {
   "cell_type": "markdown",
   "metadata": {},
   "source": [
    "## Problem 2\n",
    "Verify that the data still looks good. Displaying a sample of the labels and images from the ndarray."
   ]
  },
  {
   "cell_type": "code",
   "execution_count": 7,
   "metadata": {},
   "outputs": [
    {
     "name": "stdout",
     "output_type": "stream",
     "text": [
      "A\n"
     ]
    },
    {
     "data": {
      "image/png": "[encoded data removed]",
      "text/plain": [
       "<Figure size 432x288 with 1 Axes>"
      ]
     },
     "metadata": {
      "needs_background": "light"
     },
     "output_type": "display_data"
    },
    {
     "name": "stdout",
     "output_type": "stream",
     "text": [
      "B\n"
     ]
    },
    {
     "data": {
      "image/png": "[encoded data removed]",
      "text/plain": [
       "<Figure size 432x288 with 1 Axes>"
      ]
     },
     "metadata": {
      "needs_background": "light"
     },
     "output_type": "display_data"
    },
    {
     "name": "stdout",
     "output_type": "stream",
     "text": [
      "C\n"
     ]
    },
    {
     "data": {
      "image/png": "[encoded data removed]",
      "text/plain": [
       "<Figure size 432x288 with 1 Axes>"
      ]
     },
     "metadata": {
      "needs_background": "light"
     },
     "output_type": "display_data"
    },
    {
     "name": "stdout",
     "output_type": "stream",
     "text": [
      "D\n"
     ]
    },
    {
     "data": {
      "image/png": "[encoded data removed]",
      "text/plain": [
       "<Figure size 432x288 with 1 Axes>"
      ]
     },
     "metadata": {
      "needs_background": "light"
     },
     "output_type": "display_data"
    },
    {
     "name": "stdout",
     "output_type": "stream",
     "text": [
      "E\n"
     ]
    },
    {
     "data": {
      "image/png": "[encoded data removed]",
      "text/plain": [
       "<Figure size 432x288 with 1 Axes>"
      ]
     },
     "metadata": {
      "needs_background": "light"
     },
     "output_type": "display_data"
    },
    {
     "name": "stdout",
     "output_type": "stream",
     "text": [
      "F\n"
     ]
    },
    {
     "data": {
      "image/png": "[encoded data removed]",
      "text/plain": [
       "<Figure size 432x288 with 1 Axes>"
      ]
     },
     "metadata": {
      "needs_background": "light"
     },
     "output_type": "display_data"
    },
    {
     "name": "stdout",
     "output_type": "stream",
     "text": [
      "G\n"
     ]
    },
    {
     "data": {
      "image/png": "[encoded data removed]",
      "text/plain": [
       "<Figure size 432x288 with 1 Axes>"
      ]
     },
     "metadata": {
      "needs_background": "light"
     },
     "output_type": "display_data"
    },
    {
     "name": "stdout",
     "output_type": "stream",
     "text": [
      "H\n"
     ]
    },
    {
     "data": {
      "image/png": "[encoded data removed]",
      "text/plain": [
       "<Figure size 432x288 with 1 Axes>"
      ]
     },
     "metadata": {
      "needs_background": "light"
     },
     "output_type": "display_data"
    },
    {
     "name": "stdout",
     "output_type": "stream",
     "text": [
      "I\n"
     ]
    },
    {
     "data": {
      "image/png": "[encoded data removed]",
      "text/plain": [
       "<Figure size 432x288 with 1 Axes>"
      ]
     },
     "metadata": {
      "needs_background": "light"
     },
     "output_type": "display_data"
    },
    {
     "name": "stdout",
     "output_type": "stream",
     "text": [
      "J\n"
     ]
    },
    {
     "data": {
      "image/png": "[encoded data removed]",
      "text/plain": [
       "<Figure size 432x288 with 1 Axes>"
      ]
     },
     "metadata": {
      "needs_background": "light"
     },
     "output_type": "display_data"
    }
   ],
   "source": [
    "#Afin de vérifier la qualité des données après le opérations réalisés, nous allons à partir des 3D Array reconstituer\n",
    "#les images et les afficher\n",
    "alph = ['A','B','C','D','E','F','G','H','I','J']\n",
    "e=0\n",
    "for c,fichier in enumerate(train_datasets):\n",
    "    objects = []\n",
    "    with (open(fichier, \"rb\")) as openfile:\n",
    "        e = cPickle.load(openfile)\n",
    "        choix = random.choice(e)\n",
    "        print(alph[c])\n",
    "        plt.imshow(choix, interpolation='nearest')\n",
    "        plt.show()\n",
    "    "
   ]
  },
  {
   "cell_type": "markdown",
   "metadata": {},
   "source": [
    "## Problem 3\n",
    "Another check: Verify that the data is balanced across classes. "
   ]
  },
  {
   "cell_type": "code",
   "execution_count": 15,
   "metadata": {},
   "outputs": [
    {
     "data": {
      "image/png": "[encoded data removed]",
      "text/plain": [
       "<Figure size 432x288 with 1 Axes>"
      ]
     },
     "metadata": {
      "needs_background": "light"
     },
     "output_type": "display_data"
    }
   ],
   "source": [
    "#On recupere depuis les données l'ensemble des labels et le nombre d'occurence de chaque labels\n",
    "#Dans le graphique ci-dessous, on constate que les labels/classes sont bien réparties dans le dataset\n",
    "nb_letter = []\n",
    "e=0\n",
    "for c,fichier in enumerate(train_datasets):\n",
    "    objects = []\n",
    "    with (open(fichier, \"rb\")) as openfile:\n",
    "        e = cPickle.load(openfile)\n",
    "        nb_letter.append(e.shape[0])\n",
    "\n",
    "df = pd.DataFrame(nb_letter,columns=['Lettre'])\n",
    "\n",
    "x = df.index.values\n",
    "y = [e[0] for e in df.values]\n",
    "plt.bar(x,y)\n",
    "plt.xticks(x)\n",
    "plt.show()"
   ]
  },
  {
   "cell_type": "markdown",
   "metadata": {},
   "source": [
    "\n",
    "Merge and prune the training data as needed. Depending on your computer setup, you might not be able to fit it all in memory, and you can tune train_size as needed. The labels will be stored into a separate array of integers 0 through 9.\n",
    "\n",
    "Also create a validation dataset for hyperparameter tuning."
   ]
  },
  {
   "cell_type": "code",
   "execution_count": 10,
   "metadata": {},
   "outputs": [],
   "source": [
    "#Cette fonction récupere pour chaque fichier pickle d'un dataset, l'ensemble des images sous formes de données numériques\n",
    "#Ces données sont séparés, d'un coté un tableau à 3dimensions pour l'image, l'autre est une liste qui contient les lettres \n",
    "#présentes sur chaque image\n",
    "#On a ainsi nos données X, et les labels Y en sortie\n",
    "def data_merge(datasets):\n",
    "    values = np.array([])\n",
    "    labels = []\n",
    "    for c,fichier in enumerate(datasets):\n",
    "        with (open(fichier, \"rb\")) as openfile:\n",
    "            e = cPickle.load(openfile)\n",
    "            label = e.shape[0] * [c] #Une liste label de taille égale au nombres d'images est crée, avec un seul label utilisé\n",
    "            labels = labels + label\n",
    "            if (values.size == 0):\n",
    "                values = e #Lors de la première itération, pour permettre la concaténation de tous les 3D array\n",
    "            else :\n",
    "                values = np.concatenate((values, e), axis = 0)\n",
    "    return values,np.array(labels)"
   ]
  },
  {
   "cell_type": "code",
   "execution_count": 16,
   "metadata": {},
   "outputs": [
    {
     "name": "stdout",
     "output_type": "stream",
     "text": [
      "Training: (529114, 28, 28) (529114,)\n",
      "Validation: (9362, 28, 28) (9362,)\n",
      "Testing: (9362, 28, 28) (9362,)\n"
     ]
    }
   ],
   "source": [
    "# For example\n",
    "# Je n'ai pas utilisé ce paramètre pour pouvoir directement et rapidement manipuler la taille des datasets utilisés lors\n",
    "# de l'entrainement des modèles.\n",
    "train_size = 200000\n",
    "valid_size = 10000\n",
    "test_size = 10000\n",
    "\n",
    "#On utilise la fonction précédente pour fusioner les données contenue dans chaque fichier d'un dataset\n",
    "#Pour les données issues du dataset test, on les sépare en 2 dataset un pour la validation, un pour le test\n",
    "\n",
    "train_dataset, train_labels = data_merge(train_datasets)\n",
    "X,Y = data_merge(test_datasets)\n",
    "test_dataset, valid_dataset, test_labels, valid_labels = train_test_split(X, Y, test_size = 0.5, random_state=42)\n",
    "\n",
    "\n",
    "print('Training:', train_dataset.shape, train_labels.shape)\n",
    "print('Validation:', valid_dataset.shape, valid_labels.shape)\n",
    "print('Testing:', test_dataset.shape, test_labels.shape)"
   ]
  },
  {
   "cell_type": "markdown",
   "metadata": {},
   "source": [
    "Next, we'll randomize the data. It's important to have the labels well shuffled for the training and test distributions to match.\n",
    "\n"
   ]
  },
  {
   "cell_type": "code",
   "execution_count": 17,
   "metadata": {},
   "outputs": [],
   "source": [
    "def randomize(dataset, labels):\n",
    "    permutation = np.random.permutation(labels.shape[0])\n",
    "    shuffled_dataset = dataset[permutation,:,:]\n",
    "    shuffled_labels = labels[permutation]\n",
    "    return shuffled_dataset, shuffled_labels\n",
    "train_dataset, train_labels = randomize(train_dataset, train_labels)\n",
    "test_dataset, test_labels = randomize(test_dataset, test_labels)\n",
    "valid_dataset, valid_labels = randomize(valid_dataset, valid_labels)"
   ]
  },
  {
   "cell_type": "markdown",
   "metadata": {},
   "source": [
    "## Problem 4\n",
    "Convince yourself that the data is still good after shuffling!\n",
    "\n"
   ]
  },
  {
   "cell_type": "code",
   "execution_count": 18,
   "metadata": {},
   "outputs": [
    {
     "data": {
      "text/plain": [
       "<matplotlib.axes._subplots.AxesSubplot at 0x2192a72eba8>"
      ]
     },
     "execution_count": 18,
     "metadata": {},
     "output_type": "execute_result"
    },
    {
     "data": {
      "image/png": "[encoded data removed]",
      "text/plain": [
       "<Figure size 432x288 with 1 Axes>"
      ]
     },
     "metadata": {
      "needs_background": "light"
     },
     "output_type": "display_data"
    }
   ],
   "source": [
    "sns.countplot(train_labels)"
   ]
  },
  {
   "cell_type": "markdown",
   "metadata": {},
   "source": [
    "#### En l'occurence apres l'utilisation de la méthode Shuffle, les données sont bien réparties dans chaque classe (Lettre)"
   ]
  },
  {
   "cell_type": "markdown",
   "metadata": {},
   "source": [
    "Save the data for later reuse:\n",
    "\n"
   ]
  },
  {
   "cell_type": "code",
   "execution_count": 20,
   "metadata": {},
   "outputs": [
    {
     "name": "stdout",
     "output_type": "stream",
     "text": [
      ".\\notMNIST.pickle\n"
     ]
    }
   ],
   "source": [
    "#On conserve toutes les données dans un tuple qu'on va sauvegarder au format pickle\n",
    "pickle_file = os.path.join(data_root, 'notMNIST.pickle')\n",
    "\n",
    "data_to_save = (train_dataset, train_labels,test_dataset, test_labels, valid_dataset, valid_labels)\n",
    "\n",
    "try:\n",
    "    print(pickle_file)\n",
    "    with open(pickle_file, 'wb') as f:\n",
    "        cPickle.dump(data_to_save, f, cPickle.HIGHEST_PROTOCOL)\n",
    "\n",
    "except Exception as e:\n",
    "    print('Unable to save data to', pickle_file, ':', e)"
   ]
  },
  {
   "cell_type": "code",
   "execution_count": 27,
   "metadata": {},
   "outputs": [
    {
     "name": "stdout",
     "output_type": "stream",
     "text": [
      "Compressed pickle size: 1720211734\n",
      "1.6020720209926367\n"
     ]
    }
   ],
   "source": [
    "statinfo = os.stat(pickle_file)\n",
    "print('Compressed pickle size:', statinfo.st_size)"
   ]
  },
  {
   "cell_type": "markdown",
   "metadata": {},
   "source": [
    "   #      -----------  Arrivé ici au bout de 3 Heures  -----------"
   ]
  },
  {
   "cell_type": "markdown",
   "metadata": {},
   "source": [
    "## Problem 5\n",
    "By construction, this dataset might contain a lot of overlapping samples, including training data that's also contained in the validation and test set. Measure how much overlap there is between training, validation and test samples.\n",
    "\n",
    "Optional questions:\n",
    "\n",
    "What about near duplicates between datasets? (images that are almost identical)\n",
    "Create a sanitized validation and test set, and compare your accuracy on those in subsequent questions."
   ]
  },
  {
   "cell_type": "code",
   "execution_count": 72,
   "metadata": {},
   "outputs": [],
   "source": [
    "#unique, counts = np.unique(train_dataset, return_counts=True)\n",
    "#print(counts)\n",
    "train_unique = len(np.unique(train_dataset, axis=0))\n",
    "test_unique  = len(np.unique(test_dataset,  axis=0))\n",
    "valid_unique = len(np.unique(valid_dataset, axis=0))\n",
    "nb_duplicate_train = len(train_dataset)-train_unique\n",
    "nb_duplicate_test  = len(test_dataset) -test_unique\n",
    "nb_duplicate_valid = len(valid_dataset)-valid_unique"
   ]
  },
  {
   "cell_type": "code",
   "execution_count": 100,
   "metadata": {},
   "outputs": [],
   "source": [
    "# Afin de détecter les duplicats entre les dataset, nous utilison la fonction intersect1D de numpy qui fournit la liste des\n",
    "# duplicats c'est à dire, les images qui sont présentes dans les 2 datasets indiqués en paramètre.\n",
    "# Seulement cette fonction marche seulement avec des listes à 1 Dimension, nous allons donc transformer nos 3D Array afin\n",
    "# qu'elles soient compatibles avec la fonction intersect1D.\n",
    "def duplicats(A,B):\n",
    "    A = A.reshape(len(A),-1)\n",
    "    B = B.reshape(len(B),-1)\n",
    "    nrows, ncols = A.shape\n",
    "    dtype={'names':['f{}'.format(i) for i in range(ncols)],\n",
    "       'formats':ncols * [A.dtype]}\n",
    "\n",
    "    C = np.intersect1d(A.view(dtype), B.view(dtype))\n",
    "\n",
    "    # This last bit is optional if you're okay with \"C\" being a structured array...\n",
    "    C = C.view(A.dtype).reshape(-1, ncols)\n",
    "    return C"
   ]
  },
  {
   "cell_type": "markdown",
   "metadata": {},
   "source": [
    "En complément de la fonction duplicats, j'ai pu trouvé une librairie python proposant une fonction réalisant la même tache,\n",
    "il s'agit de la librairie numpy_indexed avec la fonction intersection() qui prend en paramètres des 3D array."
   ]
  },
  {
   "cell_type": "code",
   "execution_count": 105,
   "metadata": {},
   "outputs": [
    {
     "name": "stdout",
     "output_type": "stream",
     "text": [
      "Duplicats dans le dataset TRAIN : 67168\n",
      "Duplicats dans le dataset TEST : 206\n",
      "Duplicats dans le dataset VALID : 169\n",
      "Duplicats entre les datasets TRAIN et TEST : 2307 2307\n",
      "Duplicats entre les datasets TRAIN et VALID: 2347 2347\n"
     ]
    }
   ],
   "source": [
    "import glob, os\n",
    "import numpy_indexed as npi\n",
    "\n",
    "print(\"Duplicats dans le dataset TRAIN :\",nb_duplicate_train)\n",
    "print(\"Duplicats dans le dataset TEST :\" ,nb_duplicate_test)\n",
    "print(\"Duplicats dans le dataset VALID :\",nb_duplicate_valid)\n",
    "\n",
    "print(\"Duplicats entre les datasets TRAIN et TEST :\",len(duplicats(train_dataset,test_dataset)),len(npi.intersection(train_dataset,test_dataset)))\n",
    "print(\"Duplicats entre les datasets TRAIN et VALID:\",len(duplicats(train_dataset,valid_dataset)),len(npi.intersection(train_dataset,valid_dataset)))\n",
    "\n",
    "# Should render something like\n",
    "#Duplicates inside training set:  ZZZZ\n",
    "#Duplicates between training and validation:  ZZZZ\n",
    "#Duplicates between training and test:  ZZZZ"
   ]
  },
  {
   "cell_type": "markdown",
   "metadata": {},
   "source": [
    "## Problem 6\n",
    "Let's get an idea of what an off-the-shelf classifier can give you on this data. It's always good to check that there is something to learn, and that it's a problem that is not so trivial that a canned solution solves it.\n",
    "\n",
    "Train a simple model on this data using 50, 100, 1000 and 5000 training samples. Hint: you can use the LogisticRegression model from sklearn.linear_model."
   ]
  },
  {
   "cell_type": "code",
   "execution_count": 106,
   "metadata": {},
   "outputs": [
    {
     "data": {
      "text/plain": [
       "LogisticRegression(C=1.0, class_weight=None, dual=False, fit_intercept=True,\n",
       "          intercept_scaling=1, max_iter=100, multi_class='multinomial',\n",
       "          n_jobs=None, penalty='l2', random_state=None, solver='saga',\n",
       "          tol=0.0001, verbose=0, warm_start=False)"
      ]
     },
     "execution_count": 106,
     "metadata": {},
     "output_type": "execute_result"
    }
   ],
   "source": [
    "from sklearn.linear_model import LogisticRegression\n",
    "\n",
    "nsamples, nx, ny = train_dataset.shape\n",
    "d2_train_dataset = train_dataset.reshape((nsamples,nx*ny))\n",
    "\n",
    "lr100 = LogisticRegression(multi_class='multinomial',solver='saga')\n",
    "lr100.fit(d2_train_dataset[:100],train_labels[:100] )\n",
    "lr500 = LogisticRegression(multi_class='multinomial',solver='saga')\n",
    "lr500.fit(d2_train_dataset[:500],train_labels[:500] )\n",
    "lr1000 = LogisticRegression(multi_class='multinomial',solver='saga')\n",
    "lr1000.fit(d2_train_dataset[:1000],train_labels[:1000] )\n",
    "lr5000 = LogisticRegression(multi_class='multinomial',solver='saga')\n",
    "lr5000.fit(d2_train_dataset[:5000],train_labels[:5000] )"
   ]
  },
  {
   "cell_type": "code",
   "execution_count": 109,
   "metadata": {},
   "outputs": [
    {
     "name": "stdout",
     "output_type": "stream",
     "text": [
      "Score of Logistic Regression with 100   samples : 0.6639816750265538\n",
      "Score of Logistic Regression with 500   samples : 0.743798122899791\n",
      "Score of Logistic Regression with 1000  samples : 0.7647728088842858\n",
      "Score of Logistic Regression with 10000 samples : 0.7735384057121906\n"
     ]
    }
   ],
   "source": [
    "print(\"Score of Logistic Regression with 100   samples :\",lr100.score(d2_train_dataset,train_labels))\n",
    "print(\"Score of Logistic Regression with 500   samples :\",lr500.score(d2_train_dataset,train_labels))\n",
    "print(\"Score of Logistic Regression with 1000  samples :\",lr1000.score(d2_train_dataset,train_labels))\n",
    "print(\"Score of Logistic Regression with 10000 samples :\",lr5000.score(d2_train_dataset,train_labels))"
   ]
  },
  {
   "cell_type": "code",
   "execution_count": 112,
   "metadata": {},
   "outputs": [],
   "source": [
    "test_nsamples, test_nx, test_ny = test_dataset.shape\n",
    "d2_test_dataset = test_dataset.reshape((test_nsamples,test_nx*test_ny))\n",
    "\n",
    "def prediction_lettre(i=0):\n",
    "    img_original = test_dataset[i]\n",
    "    img_to_predict = d2_test_dataset[i]\n",
    "    ind_lettre = lr5000.predict(img_to_predict.reshape(1, -1))[0]\n",
    "    print(\"Lettre prédite :\",alph[ind_lettre])\n",
    "    print(\"Lettre à prédire :\")\n",
    "    plt.imshow(img_original, interpolation='nearest',cmap='gray')\n",
    "    plt.show()"
   ]
  },
  {
   "cell_type": "code",
   "execution_count": 113,
   "metadata": {},
   "outputs": [
    {
     "name": "stdout",
     "output_type": "stream",
     "text": [
      "Lettre prédite : I\n",
      "Lettre à prédire :\n"
     ]
    },
    {
     "data": {
      "image/png": "[encoded data removed]",
      "text/plain": [
       "<Figure size 432x288 with 1 Axes>"
      ]
     },
     "metadata": {
      "needs_background": "light"
     },
     "output_type": "display_data"
    }
   ],
   "source": [
    "prediction_lettre(866)"
   ]
  },
  {
   "cell_type": "markdown",
   "metadata": {},
   "source": [
    "## Problem 7\n",
    "Going on step deeper. \n",
    "Please propose a model of your choice.\n",
    "If you run out of time, you do not have to implement the full code, but explain the steps you need to implement and every parameter choice you make."
   ]
  },
  {
   "cell_type": "markdown",
   "metadata": {},
   "source": [
    "We first need to reformat the data\n",
    "\n",
    "Reformat into a shape that's more adapted to the models we're going to train:\n",
    "\n",
    " - data as a flat matrix,\n",
    " - labels as float 1-hot encodings."
   ]
  },
  {
   "cell_type": "markdown",
   "metadata": {},
   "source": [
    "# Utilisation d'un modèle de réseaux de Neurones"
   ]
  },
  {
   "cell_type": "markdown",
   "metadata": {},
   "source": [
    "### Ici nous utilisions un type de réseaux de neurones adapté aux types de données, en l'occurence des images.\n",
    "### Il s'agit du modèle CNN, un réseau de neurones convolutif."
   ]
  },
  {
   "cell_type": "markdown",
   "metadata": {},
   "source": [
    "#### 1. Importation des librairies"
   ]
  },
  {
   "cell_type": "code",
   "execution_count": 114,
   "metadata": {},
   "outputs": [
    {
     "name": "stderr",
     "output_type": "stream",
     "text": [
      "Using TensorFlow backend.\n"
     ]
    }
   ],
   "source": [
    "from keras.utils.np_utils import to_categorical # convert to one-hot-encoding\n",
    "from keras.models import Sequential\n",
    "from keras.layers import Dense, Dropout, Flatten, Conv2D, MaxPool2D\n",
    "from keras.optimizers import RMSprop,Adam\n",
    "from keras.preprocessing.image import ImageDataGenerator\n",
    "from keras.callbacks import ReduceLROnPlateau\n"
   ]
  },
  {
   "cell_type": "markdown",
   "metadata": {},
   "source": [
    "#### 2. Configuration du modèle"
   ]
  },
  {
   "cell_type": "markdown",
   "metadata": {},
   "source": [
    "S'agissant d'un usage pour catégoriser des images, la fonction d'activation est une softmax, les labels seront transformés en catégorie ( un vecteur de taille égale aux nombres de labels possibles).\n",
    "\n",
    "Le dropout va permettre de réduire l'overfitting en désactivant aléatoirement certaines neurones d'une couche."
   ]
  },
  {
   "cell_type": "code",
   "execution_count": 115,
   "metadata": {},
   "outputs": [],
   "source": [
    "model = Sequential()\n",
    "#\n",
    "model.add(Conv2D(filters = 8, kernel_size = (5,5),padding = 'Same', activation ='relu', input_shape = (28,28,1)))\n",
    "model.add(MaxPool2D(pool_size=(2,2)))\n",
    "model.add(Dropout(0.25))\n",
    "#\n",
    "model.add(Conv2D(filters = 16, kernel_size = (3,3),padding = 'Same', activation ='relu'))\n",
    "model.add(MaxPool2D(pool_size=(2,2), strides=(2,2)))\n",
    "model.add(Dropout(0.25))\n",
    "# fully connected\n",
    "\n",
    "model.add(Flatten())\n",
    "model.add(Dense(256, activation = \"relu\"))\n",
    "model.add(Dropout(0.5))\n",
    "model.add(Dense(10, activation = \"softmax\"))"
   ]
  },
  {
   "cell_type": "markdown",
   "metadata": {},
   "source": [
    "You can choose a simple multinomial logistic regression using simple gradient descent, or any other multi layer version. Just don't  overengineer and make sure that this model improves your validation / test accuracy from previous problems."
   ]
  },
  {
   "cell_type": "markdown",
   "metadata": {},
   "source": [
    "#### 3.Augmentation des données :\n",
    "Nous realisions de l'augmentation des données, par exemple une image aura une copie avec une rotation (un angle assez faible étant donné qu'il s'agit de lettres), ou un faible zoom (étant donné la qualité/résolution assez basse des images un zoom élévé ne serait pas approprié)"
   ]
  },
  {
   "cell_type": "code",
   "execution_count": 116,
   "metadata": {},
   "outputs": [],
   "source": [
    "datagen = ImageDataGenerator(\n",
    "        featurewise_center=False,  \n",
    "        samplewise_center=False,  \n",
    "        featurewise_std_normalization=False,  \n",
    "        samplewise_std_normalization=False,  \n",
    "        zca_whitening=False,  \n",
    "        rotation_range=5,  # randomly rotate images in the range 5 degrees\n",
    "        zoom_range = 0.1, # Randomly zoom image 10%\n",
    "        width_shift_range=0.1,  # randomly shift images horizontally 10%\n",
    "        height_shift_range=0.1,  # randomly shift images vertically 10%\n",
    "        horizontal_flip=False,  \n",
    "        vertical_flip=False)  \n",
    "\n",
    "\n",
    "datagen.fit(train_dataset.reshape(-1,28,28,1)[:1000])"
   ]
  },
  {
   "cell_type": "code",
   "execution_count": 118,
   "metadata": {},
   "outputs": [],
   "source": [
    "X_reshape = train_dataset.reshape(-1,28,28,1)\n",
    "V_reshape = valid_dataset.reshape(-1,28,28,1)\n",
    "Y_one_hot = to_categorical(train_labels)\n",
    "V_one_hot = to_categorical(valid_labels)"
   ]
  },
  {
   "cell_type": "markdown",
   "metadata": {},
   "source": [
    "#### 4.Paramétrage/Optimisation du modèle"
   ]
  },
  {
   "cell_type": "code",
   "execution_count": 119,
   "metadata": {},
   "outputs": [],
   "source": [
    "optimizer = Adam(lr=0.001, beta_1=0.9, beta_2=0.999)\n",
    "model.compile(optimizer = optimizer , loss = \"categorical_crossentropy\", metrics=[\"accuracy\"])\n",
    "batch_size = 250"
   ]
  },
  {
   "cell_type": "markdown",
   "metadata": {},
   "source": [
    "#### 5. Entrainement du modèle"
   ]
  },
  {
   "cell_type": "code",
   "execution_count": 123,
   "metadata": {},
   "outputs": [
    {
     "name": "stdout",
     "output_type": "stream",
     "text": [
      "Epoch 1/15\n",
      "160/160 [==============================] - 12s 76ms/step - loss: 0.5314 - accuracy: 0.8436 - val_loss: 0.2100 - val_accuracy: 0.9420\n",
      "Epoch 2/15\n",
      "160/160 [==============================] - 12s 76ms/step - loss: 0.5158 - accuracy: 0.8445 - val_loss: 0.2058 - val_accuracy: 0.9425\n",
      "Epoch 3/15\n",
      "160/160 [==============================] - 12s 75ms/step - loss: 0.5100 - accuracy: 0.8492 - val_loss: 0.2029 - val_accuracy: 0.9385\n",
      "Epoch 4/15\n",
      "160/160 [==============================] - 12s 76ms/step - loss: 0.4998 - accuracy: 0.8498 - val_loss: 0.1960 - val_accuracy: 0.9435\n",
      "Epoch 5/15\n",
      "160/160 [==============================] - 12s 77ms/step - loss: 0.4946 - accuracy: 0.8526 - val_loss: 0.1936 - val_accuracy: 0.9425\n",
      "Epoch 6/15\n",
      "160/160 [==============================] - 13s 78ms/step - loss: 0.4857 - accuracy: 0.8536 - val_loss: 0.1871 - val_accuracy: 0.9465\n",
      "Epoch 7/15\n",
      "160/160 [==============================] - 12s 77ms/step - loss: 0.4842 - accuracy: 0.8557 - val_loss: 0.1852 - val_accuracy: 0.9480\n",
      "Epoch 8/15\n",
      "160/160 [==============================] - 12s 75ms/step - loss: 0.4765 - accuracy: 0.8558 - val_loss: 0.1881 - val_accuracy: 0.9505\n",
      "Epoch 9/15\n",
      "160/160 [==============================] - 12s 76ms/step - loss: 0.4736 - accuracy: 0.8569 - val_loss: 0.1842 - val_accuracy: 0.9495\n",
      "Epoch 10/15\n",
      "160/160 [==============================] - 12s 75ms/step - loss: 0.4735 - accuracy: 0.8585 - val_loss: 0.1777 - val_accuracy: 0.9525\n",
      "Epoch 11/15\n",
      "160/160 [==============================] - 12s 77ms/step - loss: 0.4633 - accuracy: 0.8606 - val_loss: 0.1713 - val_accuracy: 0.9520\n",
      "Epoch 12/15\n",
      "160/160 [==============================] - 12s 76ms/step - loss: 0.4592 - accuracy: 0.8631 - val_loss: 0.1723 - val_accuracy: 0.9525\n",
      "Epoch 13/15\n",
      "160/160 [==============================] - 12s 76ms/step - loss: 0.4612 - accuracy: 0.8604 - val_loss: 0.1701 - val_accuracy: 0.9540\n",
      "Epoch 14/15\n",
      "160/160 [==============================] - 13s 78ms/step - loss: 0.4580 - accuracy: 0.8620 - val_loss: 0.1738 - val_accuracy: 0.9505\n",
      "Epoch 15/15\n",
      "160/160 [==============================] - 12s 78ms/step - loss: 0.4485 - accuracy: 0.8635 - val_loss: 0.1698 - val_accuracy: 0.9495\n"
     ]
    }
   ],
   "source": [
    "mod = model.fit_generator(datagen.flow(X_reshape[:40000],Y_one_hot[:40000], batch_size=batch_size),\n",
    "                    epochs = 15, validation_data = (V_reshape[:2000],V_one_hot[:2000]), steps_per_epoch=X_reshape[:40000].shape[0] // batch_size)"
   ]
  },
  {
   "cell_type": "markdown",
   "metadata": {},
   "source": [
    "#### 6. Analyse des performances du modèle"
   ]
  },
  {
   "cell_type": "code",
   "execution_count": 121,
   "metadata": {},
   "outputs": [
    {
     "data": {
      "image/png": "[encoded data removed]",
      "text/plain": [
       "<Figure size 432x288 with 1 Axes>"
      ]
     },
     "metadata": {
      "needs_background": "light"
     },
     "output_type": "display_data"
    }
   ],
   "source": [
    "plt.plot(mod.history['val_loss'], color='b', label=\"validation loss\")\n",
    "plt.title(\"Test Loss\")\n",
    "plt.xlabel(\"Number of Epochs\")\n",
    "plt.ylabel(\"Loss\")\n",
    "plt.legend()\n",
    "plt.show()"
   ]
  },
  {
   "cell_type": "code",
   "execution_count": 128,
   "metadata": {},
   "outputs": [
    {
     "data": {
      "image/png": "[encoded data removed]",
      "text/plain": [
       "<Figure size 432x288 with 2 Axes>"
      ]
     },
     "metadata": {
      "needs_background": "light"
     },
     "output_type": "display_data"
    }
   ],
   "source": [
    "fig, ax = plt.subplots(2,1)\n",
    "ax[0].plot(mod.history['loss'], color='b', label=\"Training loss\")\n",
    "ax[0].plot(mod.history['val_loss'], color='r', label=\"validation loss\",axes =ax[0])\n",
    "legend = ax[0].legend(loc='best', shadow=True)\n",
    "\n",
    "ax[1].plot(mod.history['accuracy'], color='b', label=\"Training accuracy\")\n",
    "ax[1].plot(mod.history['val_accuracy'], color='r',label=\"Validation accuracy\")\n",
    "legend = ax[1].legend(loc='best', shadow=True)"
   ]
  },
  {
   "cell_type": "code",
   "execution_count": null,
   "metadata": {},
   "outputs": [],
   "source": []
  }
 ],
 "metadata": {
  "kernelspec": {
   "display_name": "Python 3",
   "language": "python",
   "name": "python3"
  },
  "language_info": {
   "codemirror_mode": {
    "name": "ipython",
    "version": 3
   },
   "file_extension": ".py",
   "mimetype": "text/x-python",
   "name": "python",
   "nbconvert_exporter": "python",
   "pygments_lexer": "ipython3",
   "version": "3.7.3"
  },
  "metadata": {
   "interpreter": {
    "hash": "aee8b7b246df8f9039afb4144a1f6fd8d2ca17a180786b69acc140d282b71a49"
   }
  }
 },
 "nbformat": 4,
 "nbformat_minor": 2
}
